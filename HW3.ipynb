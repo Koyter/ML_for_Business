{
  "nbformat": 4,
  "nbformat_minor": 0,
  "metadata": {
    "colab": {
      "name": "HW3.ipynb",
      "provenance": [],
      "collapsed_sections": [],
      "authorship_tag": "ABX9TyN5Qe3+nVasyVv/LWzacawB"
    },
    "kernelspec": {
      "name": "python3",
      "display_name": "Python 3"
    },
    "language_info": {
      "name": "python"
    }
  },
  "cells": [
    {
      "cell_type": "markdown",
      "source": [
        "1. Обучить несколько разных моделей на наборе данных ССЗ (train_case2.csv): логрег, бустинг, лес и т.д - на ваш выбор 2-3 варианта\n",
        "2. Вывести сравнение полученных моделей по основным метрикам классификации: pr/rec/auc/f_score (можно в виде таблицы, где строки - модели, а столбцы - метрики)\n",
        "3. Вывести сравнение полученных моделей по метрикам бизнеса по показателям с урока\n",
        "    - стоимость лечения 15000р, если сделали тест и начали лечить вовремя\n",
        "    - стоимость лечения 20000р, если упустили и начали лечить когда уже проявились все симптомы\n",
        "    - стоимость теста 1400р\n",
        "4. Сделать выводы о том, какая модель справилась с задачей лучше других"
      ],
      "metadata": {
        "id": "LDD7OpNNlD5z"
      }
    },
    {
      "cell_type": "code",
      "source": [
        "import numpy as np\n",
        "import pandas as pd\n",
        "\n",
        "import matplotlib.pyplot as plt\n",
        "import seaborn as sns\n",
        "from sklearn.metrics import precision_recall_curve, roc_curve, roc_auc_score, confusion_matrix\n",
        "from sklearn.feature_extraction.text import TfidfVectorizer\n",
        "from sklearn.linear_model import LogisticRegression\n",
        "from sklearn.model_selection import cross_val_score, train_test_split\n",
        "from scipy.sparse import hstack\n",
        "from sklearn.pipeline import Pipeline, make_pipeline\n",
        "from sklearn.base import BaseEstimator, TransformerMixin\n",
        "from sklearn.preprocessing import StandardScaler\n",
        "from sklearn.pipeline import FeatureUnion\n",
        "from sklearn.ensemble import RandomForestClassifier, GradientBoostingClassifier"
      ],
      "metadata": {
        "id": "TxSJtng2l8iA"
      },
      "execution_count": 53,
      "outputs": []
    },
    {
      "cell_type": "code",
      "execution_count": 1,
      "metadata": {
        "colab": {
          "base_uri": "https://localhost:8080/"
        },
        "id": "8HNxiW7JlAyT",
        "outputId": "2bec5efa-c86c-4d5b-b6be-94454405aaa5"
      },
      "outputs": [
        {
          "output_type": "stream",
          "name": "stdout",
          "text": [
            "--2022-03-17 11:14:04--  https://drive.google.com/uc?export=download&id=1Si4EJ_RexI3Q7yZU8eLjgp4ORe_BXr4G\n",
            "Resolving drive.google.com (drive.google.com)... 172.217.204.139, 172.217.204.100, 172.217.204.113, ...\n",
            "Connecting to drive.google.com (drive.google.com)|172.217.204.139|:443... connected.\n",
            "HTTP request sent, awaiting response... 303 See Other\n",
            "Location: https://doc-00-c0-docs.googleusercontent.com/docs/securesc/ha0ro937gcuc7l7deffksulhg5h7mbp1/r42qktg86m548llohevek05cadttu0up/1647515625000/14904333240138417226/*/1Si4EJ_RexI3Q7yZU8eLjgp4ORe_BXr4G?e=download [following]\n",
            "Warning: wildcards not supported in HTTP.\n",
            "--2022-03-17 11:14:04--  https://doc-00-c0-docs.googleusercontent.com/docs/securesc/ha0ro937gcuc7l7deffksulhg5h7mbp1/r42qktg86m548llohevek05cadttu0up/1647515625000/14904333240138417226/*/1Si4EJ_RexI3Q7yZU8eLjgp4ORe_BXr4G?e=download\n",
            "Resolving doc-00-c0-docs.googleusercontent.com (doc-00-c0-docs.googleusercontent.com)... 173.194.217.132, 2607:f8b0:400c:c13::84\n",
            "Connecting to doc-00-c0-docs.googleusercontent.com (doc-00-c0-docs.googleusercontent.com)|173.194.217.132|:443... connected.\n",
            "HTTP request sent, awaiting response... 200 OK\n",
            "Length: 2941524 (2.8M) [text/csv]\n",
            "Saving to: ‘train_case2.csv’\n",
            "\n",
            "train_case2.csv     100%[===================>]   2.80M  --.-KB/s    in 0.02s   \n",
            "\n",
            "2022-03-17 11:14:04 (136 MB/s) - ‘train_case2.csv’ saved [2941524/2941524]\n",
            "\n"
          ]
        }
      ],
      "source": [
        "!wget 'https://drive.google.com/uc?export=download&id=1Si4EJ_RexI3Q7yZU8eLjgp4ORe_BXr4G' -O train_case2.csv"
      ]
    },
    {
      "cell_type": "code",
      "source": [
        "class ColumnSelector(BaseEstimator, TransformerMixin):\n",
        "    \n",
        "    def __init__(self, key):\n",
        "        self.key = key\n",
        "\n",
        "    def fit(self, X, y=None):\n",
        "        return self\n",
        "\n",
        "    def transform(self, X):\n",
        "        return X[self.key]\n",
        "    \n",
        "class NumberSelector(BaseEstimator, TransformerMixin):\n",
        "   \n",
        "    def __init__(self, key):\n",
        "        self.key = key\n",
        "\n",
        "    def fit(self, X, y=None):\n",
        "        return self\n",
        "\n",
        "    def transform(self, X):\n",
        "        return X[[self.key]]\n",
        "    \n",
        "class OHEEncoder(BaseEstimator, TransformerMixin):\n",
        "    def __init__(self, key):\n",
        "        self.key = key\n",
        "        self.columns = []\n",
        "\n",
        "    def fit(self, X, y=None):\n",
        "        self.columns = [col for col in pd.get_dummies(X, prefix=self.key).columns]\n",
        "        return self\n",
        "\n",
        "    def transform(self, X):\n",
        "        X = pd.get_dummies(X, prefix=self.key)\n",
        "        test_columns = [col for col in X.columns]\n",
        "        for col_ in test_columns:\n",
        "            if col_ not in self.columns:\n",
        "                X[col_] = 0\n",
        "        return X[self.columns]\n",
        "\n",
        "\n",
        "continuos_cols = ['age', 'height', 'weight', 'ap_hi', 'ap_lo']\n",
        "cat_cols = ['gender', 'cholesterol']\n",
        "base_cols = ['gluc', 'smoke', 'alco', 'active']\n",
        "\n",
        "continuos_transformers = []\n",
        "cat_transformers = []\n",
        "base_transformers = []\n",
        "\n",
        "for cont_col in continuos_cols:\n",
        "    transfomer =  Pipeline([\n",
        "                ('selector', NumberSelector(key=cont_col)),\n",
        "                ('standard', StandardScaler())\n",
        "            ])\n",
        "    continuos_transformers.append((cont_col, transfomer))\n",
        "    \n",
        "for cat_col in cat_cols:\n",
        "    cat_transformer = Pipeline([\n",
        "                ('selector', ColumnSelector(key=cat_col)),\n",
        "                ('ohe', OHEEncoder(key=cat_col))\n",
        "            ])\n",
        "    cat_transformers.append((cat_col, cat_transformer))\n",
        "    \n",
        "for base_col in base_cols:\n",
        "    base_transformer = Pipeline([\n",
        "                ('selector', NumberSelector(key=base_col))\n",
        "            ])\n",
        "    base_transformers.append((base_col, base_transformer))\n",
        "\n",
        "feats = FeatureUnion(continuos_transformers+cat_transformers+base_transformers)"
      ],
      "metadata": {
        "id": "VAiJFtylncrh"
      },
      "execution_count": 20,
      "outputs": []
    },
    {
      "cell_type": "code",
      "source": [
        "df = pd.read_csv('train_case2.csv', ';')"
      ],
      "metadata": {
        "colab": {
          "base_uri": "https://localhost:8080/"
        },
        "id": "cEC7lgXUny-w",
        "outputId": "9499e2d8-77c9-42d8-c3e5-93a18c00f5c8"
      },
      "execution_count": 6,
      "outputs": [
        {
          "output_type": "stream",
          "name": "stderr",
          "text": [
            "/usr/local/lib/python3.7/dist-packages/IPython/core/interactiveshell.py:2882: FutureWarning: In a future version of pandas all arguments of read_csv except for the argument 'filepath_or_buffer' will be keyword-only\n",
            "  exec(code_obj, self.user_global_ns, self.user_ns)\n"
          ]
        }
      ]
    },
    {
      "cell_type": "code",
      "source": [
        "X_train, X_test, y_train, y_test = train_test_split(df.drop(columns='cardio'), \n",
        "                                                    df['cardio'], random_state=0)"
      ],
      "metadata": {
        "id": "P2wCmGaOoOPF"
      },
      "execution_count": 7,
      "outputs": []
    },
    {
      "cell_type": "code",
      "source": [
        "def model_metric_table(model, X_train, X_test, y_train, y_test):\n",
        "\n",
        "  model.fit(X_train, y_train)\n",
        "  y_score = model.predict_proba(X_test)[:, 1]\n",
        "\n",
        "  b = 1\n",
        "  precision, recall, thresholds = precision_recall_curve(y_test.values, y_score)\n",
        "  fscore = (1 +b**2) * (precision * recall) / (b**2 * precision + recall)\n",
        "\n",
        "  ix = np.argmax(fscore)\n",
        "\n",
        "  return {'precision': precision[ix],\n",
        "          'recall': recall[ix],\n",
        "          'f1_score': fscore[ix],\n",
        "          'roc_auc': roc_auc_score(y_test, y_score),\n",
        "          'best_threshold': thresholds[ix]}"
      ],
      "metadata": {
        "id": "lEsPYN8yt2DS"
      },
      "execution_count": 68,
      "outputs": []
    },
    {
      "cell_type": "code",
      "source": [
        "metric_table = pd.DataFrame(columns=['precision', 'recall', 'f1_score', 'roc_auc', 'best_threshold'])"
      ],
      "metadata": {
        "id": "7ArFPr-Vv1vE"
      },
      "execution_count": 69,
      "outputs": []
    },
    {
      "cell_type": "markdown",
      "source": [
        "Логистическая регрессия"
      ],
      "metadata": {
        "id": "AQj2qNDIoxLZ"
      }
    },
    {
      "cell_type": "code",
      "source": [
        "classifier_logr = Pipeline([\n",
        "    ('features', feats),\n",
        "    ('classifier', LogisticRegression(random_state=42)),\n",
        "])\n",
        "\n",
        "logr = model_metric_table(classifier_logr, X_train, X_test, y_train, y_test)\n",
        "metric_table = metric_table.append(logr, ignore_index=True)\n",
        "cv_scores = cross_val_score(classifier_logr, X_train, y_train, cv=7, scoring='roc_auc')\n",
        "cv_score = np.mean(cv_scores)\n",
        "cv_score_std = np.std(cv_scores)\n",
        "print(f'CV score LogReg is {cv_score:.4f}+-{cv_score_std:.4f}')"
      ],
      "metadata": {
        "colab": {
          "base_uri": "https://localhost:8080/"
        },
        "id": "F_i39RwEodta",
        "outputId": "eccea7aa-1d4e-42a8-ad0b-1f93b52189e6"
      },
      "execution_count": 70,
      "outputs": [
        {
          "output_type": "stream",
          "name": "stdout",
          "text": [
            "CV score LogReg is 0.7865+-0.0044\n"
          ]
        }
      ]
    },
    {
      "cell_type": "markdown",
      "source": [
        "Градиентный бустинг"
      ],
      "metadata": {
        "id": "zafura4gpUbh"
      }
    },
    {
      "cell_type": "code",
      "source": [
        "classifier_gb = Pipeline([\n",
        "    ('features', feats),\n",
        "    ('classifier', GradientBoostingClassifier(random_state=42)),\n",
        "])\n",
        "\n",
        "gb = model_metric_table(classifier_gb, X_train, X_test, y_train, y_test)\n",
        "metric_table = metric_table.append(gb, ignore_index=True)\n",
        "cv_scores = cross_val_score(classifier_gb, X_train, y_train, cv=7, scoring='roc_auc')\n",
        "cv_score = np.mean(cv_scores)\n",
        "cv_score_std = np.std(cv_scores)\n",
        "print(f'CV score GradBoost is {cv_score:.4f}+-{cv_score_std:.4f}')"
      ],
      "metadata": {
        "colab": {
          "base_uri": "https://localhost:8080/"
        },
        "id": "l8BfrM35pFhD",
        "outputId": "719450b3-e1d1-4445-8df4-32e7b9ce03e0"
      },
      "execution_count": 71,
      "outputs": [
        {
          "output_type": "stream",
          "name": "stdout",
          "text": [
            "CV score GradBoost is 0.8023+-0.0031\n"
          ]
        }
      ]
    },
    {
      "cell_type": "markdown",
      "source": [
        "Случайный лес"
      ],
      "metadata": {
        "id": "fqCuuf0ypmuf"
      }
    },
    {
      "cell_type": "code",
      "source": [
        "classifier_randforest = Pipeline([\n",
        "    ('features', feats),\n",
        "    ('classifier', RandomForestClassifier(random_state=42)),\n",
        "])\n",
        "\n",
        "randforest = model_metric_table(classifier_randforest, X_train, X_test, y_train, y_test)\n",
        "metric_table = metric_table.append(randforest, ignore_index=True)\n",
        "cv_scores = cross_val_score(classifier_randforest, X_train, y_train, cv=7, scoring='roc_auc')\n",
        "cv_score = np.mean(cv_scores)\n",
        "cv_score_std = np.std(cv_scores)\n",
        "print(f'CV score RandForest is {cv_score:.4f}+-{cv_score_std:.4f}')"
      ],
      "metadata": {
        "colab": {
          "base_uri": "https://localhost:8080/"
        },
        "id": "E_mDCugjpmHG",
        "outputId": "2efaee2a-765b-460b-89a6-1bdff07b6c2d"
      },
      "execution_count": 72,
      "outputs": [
        {
          "output_type": "stream",
          "name": "stdout",
          "text": [
            "CV score RandForest is 0.7744+-0.0036\n"
          ]
        }
      ]
    },
    {
      "cell_type": "markdown",
      "source": [
        "Таблица"
      ],
      "metadata": {
        "id": "AJ6aux0_1h89"
      }
    },
    {
      "cell_type": "code",
      "source": [
        "metric_table"
      ],
      "metadata": {
        "colab": {
          "base_uri": "https://localhost:8080/",
          "height": 143
        },
        "id": "3Pdriyd8rWib",
        "outputId": "48e87c34-2978-4abc-ddd6-9a179a92d324"
      },
      "execution_count": 73,
      "outputs": [
        {
          "output_type": "execute_result",
          "data": {
            "text/plain": [
              "   precision    recall  f1_score   roc_auc  best_threshold\n",
              "0   0.647431  0.837558  0.730323  0.784035        0.386937\n",
              "1   0.697848  0.788134  0.740248  0.802615        0.394947\n",
              "2   0.642669  0.815553  0.718863  0.771037        0.350000"
            ],
            "text/html": [
              "\n",
              "  <div id=\"df-1fcf277a-7e9c-4f64-b576-f8704ac847f5\">\n",
              "    <div class=\"colab-df-container\">\n",
              "      <div>\n",
              "<style scoped>\n",
              "    .dataframe tbody tr th:only-of-type {\n",
              "        vertical-align: middle;\n",
              "    }\n",
              "\n",
              "    .dataframe tbody tr th {\n",
              "        vertical-align: top;\n",
              "    }\n",
              "\n",
              "    .dataframe thead th {\n",
              "        text-align: right;\n",
              "    }\n",
              "</style>\n",
              "<table border=\"1\" class=\"dataframe\">\n",
              "  <thead>\n",
              "    <tr style=\"text-align: right;\">\n",
              "      <th></th>\n",
              "      <th>precision</th>\n",
              "      <th>recall</th>\n",
              "      <th>f1_score</th>\n",
              "      <th>roc_auc</th>\n",
              "      <th>best_threshold</th>\n",
              "    </tr>\n",
              "  </thead>\n",
              "  <tbody>\n",
              "    <tr>\n",
              "      <th>0</th>\n",
              "      <td>0.647431</td>\n",
              "      <td>0.837558</td>\n",
              "      <td>0.730323</td>\n",
              "      <td>0.784035</td>\n",
              "      <td>0.386937</td>\n",
              "    </tr>\n",
              "    <tr>\n",
              "      <th>1</th>\n",
              "      <td>0.697848</td>\n",
              "      <td>0.788134</td>\n",
              "      <td>0.740248</td>\n",
              "      <td>0.802615</td>\n",
              "      <td>0.394947</td>\n",
              "    </tr>\n",
              "    <tr>\n",
              "      <th>2</th>\n",
              "      <td>0.642669</td>\n",
              "      <td>0.815553</td>\n",
              "      <td>0.718863</td>\n",
              "      <td>0.771037</td>\n",
              "      <td>0.350000</td>\n",
              "    </tr>\n",
              "  </tbody>\n",
              "</table>\n",
              "</div>\n",
              "      <button class=\"colab-df-convert\" onclick=\"convertToInteractive('df-1fcf277a-7e9c-4f64-b576-f8704ac847f5')\"\n",
              "              title=\"Convert this dataframe to an interactive table.\"\n",
              "              style=\"display:none;\">\n",
              "        \n",
              "  <svg xmlns=\"http://www.w3.org/2000/svg\" height=\"24px\"viewBox=\"0 0 24 24\"\n",
              "       width=\"24px\">\n",
              "    <path d=\"M0 0h24v24H0V0z\" fill=\"none\"/>\n",
              "    <path d=\"M18.56 5.44l.94 2.06.94-2.06 2.06-.94-2.06-.94-.94-2.06-.94 2.06-2.06.94zm-11 1L8.5 8.5l.94-2.06 2.06-.94-2.06-.94L8.5 2.5l-.94 2.06-2.06.94zm10 10l.94 2.06.94-2.06 2.06-.94-2.06-.94-.94-2.06-.94 2.06-2.06.94z\"/><path d=\"M17.41 7.96l-1.37-1.37c-.4-.4-.92-.59-1.43-.59-.52 0-1.04.2-1.43.59L10.3 9.45l-7.72 7.72c-.78.78-.78 2.05 0 2.83L4 21.41c.39.39.9.59 1.41.59.51 0 1.02-.2 1.41-.59l7.78-7.78 2.81-2.81c.8-.78.8-2.07 0-2.86zM5.41 20L4 18.59l7.72-7.72 1.47 1.35L5.41 20z\"/>\n",
              "  </svg>\n",
              "      </button>\n",
              "      \n",
              "  <style>\n",
              "    .colab-df-container {\n",
              "      display:flex;\n",
              "      flex-wrap:wrap;\n",
              "      gap: 12px;\n",
              "    }\n",
              "\n",
              "    .colab-df-convert {\n",
              "      background-color: #E8F0FE;\n",
              "      border: none;\n",
              "      border-radius: 50%;\n",
              "      cursor: pointer;\n",
              "      display: none;\n",
              "      fill: #1967D2;\n",
              "      height: 32px;\n",
              "      padding: 0 0 0 0;\n",
              "      width: 32px;\n",
              "    }\n",
              "\n",
              "    .colab-df-convert:hover {\n",
              "      background-color: #E2EBFA;\n",
              "      box-shadow: 0px 1px 2px rgba(60, 64, 67, 0.3), 0px 1px 3px 1px rgba(60, 64, 67, 0.15);\n",
              "      fill: #174EA6;\n",
              "    }\n",
              "\n",
              "    [theme=dark] .colab-df-convert {\n",
              "      background-color: #3B4455;\n",
              "      fill: #D2E3FC;\n",
              "    }\n",
              "\n",
              "    [theme=dark] .colab-df-convert:hover {\n",
              "      background-color: #434B5C;\n",
              "      box-shadow: 0px 1px 3px 1px rgba(0, 0, 0, 0.15);\n",
              "      filter: drop-shadow(0px 1px 2px rgba(0, 0, 0, 0.3));\n",
              "      fill: #FFFFFF;\n",
              "    }\n",
              "  </style>\n",
              "\n",
              "      <script>\n",
              "        const buttonEl =\n",
              "          document.querySelector('#df-1fcf277a-7e9c-4f64-b576-f8704ac847f5 button.colab-df-convert');\n",
              "        buttonEl.style.display =\n",
              "          google.colab.kernel.accessAllowed ? 'block' : 'none';\n",
              "\n",
              "        async function convertToInteractive(key) {\n",
              "          const element = document.querySelector('#df-1fcf277a-7e9c-4f64-b576-f8704ac847f5');\n",
              "          const dataTable =\n",
              "            await google.colab.kernel.invokeFunction('convertToInteractive',\n",
              "                                                     [key], {});\n",
              "          if (!dataTable) return;\n",
              "\n",
              "          const docLinkHtml = 'Like what you see? Visit the ' +\n",
              "            '<a target=\"_blank\" href=https://colab.research.google.com/notebooks/data_table.ipynb>data table notebook</a>'\n",
              "            + ' to learn more about interactive tables.';\n",
              "          element.innerHTML = '';\n",
              "          dataTable['output_type'] = 'display_data';\n",
              "          await google.colab.output.renderOutput(dataTable, element);\n",
              "          const docLink = document.createElement('div');\n",
              "          docLink.innerHTML = docLinkHtml;\n",
              "          element.appendChild(docLink);\n",
              "        }\n",
              "      </script>\n",
              "    </div>\n",
              "  </div>\n",
              "  "
            ]
          },
          "metadata": {},
          "execution_count": 73
        }
      ]
    },
    {
      "cell_type": "markdown",
      "source": [
        "Сравнение полученных моделей по метрикам бизнеса"
      ],
      "metadata": {
        "id": "m1EMLLZZ1lfM"
      }
    },
    {
      "cell_type": "code",
      "source": [
        "def buisnes_cost(model, X_train, X_test, y_train, thresholds):\n",
        "\n",
        "  model.fit(X_train, y_train)\n",
        "  y_score = model.predict_proba(X_test)[:, 1]\n",
        "\n",
        "  rubl_test = 1400\n",
        "  rubl_early_treatment = 15000\n",
        "  rubl_late_treatment = 20000\n",
        "  \n",
        "  cnf_matrix = confusion_matrix(y_test, y_score > thresholds)\n",
        "  TN = cnf_matrix[0][0]\n",
        "  FN = cnf_matrix[1][0]\n",
        "  TP = cnf_matrix[1][1]\n",
        "  FP = cnf_matrix[0][1]\n",
        "\n",
        "  rubl_1 = (FN + TP) * rubl_late_treatment\n",
        "  rubl_test_all = np.sum(cnf_matrix) * rubl_test + (FN + TP) * rubl_early_treatment\n",
        "  rubl_ML = (FP + TP) * rubl_test + FN * rubl_late_treatment + TP * rubl_early_treatment\n",
        "\n",
        "  print('расходы, если не делать тест и ждать симптомов:', rubl_1)\n",
        "  print('расходы, если делать тест всем и лечить группу большых:', rubl_test_all)\n",
        "  print('расходы, если использовать МЛ:', rubl_ML)\n",
        "  print('Расходы \"решение не делать тесты - расходы с МL:\"', rubl_1 - rubl_ML)\n",
        "  print('Расходы \"решение не делать тесты - расходы сделать тесты всем\":', rubl_1 - rubl_test_all)\n",
        "  print('Расходы \"сделать тесты всем - решение делать тесты ML\":', rubl_test_all - rubl_ML)"
      ],
      "metadata": {
        "id": "z63jGfVD2O_z"
      },
      "execution_count": 84,
      "outputs": []
    },
    {
      "cell_type": "code",
      "source": [
        "logres_cost = buisnes_cost(classifier_logr, X_train, X_test, y_train, metric_table.iloc[0, 4])\n",
        "logres_cost"
      ],
      "metadata": {
        "colab": {
          "base_uri": "https://localhost:8080/"
        },
        "id": "7wg4n0036af0",
        "outputId": "8d997a05-9fc5-4bf0-9bbd-2d83bf834106"
      },
      "execution_count": 98,
      "outputs": [
        {
          "output_type": "stream",
          "name": "stdout",
          "text": [
            "расходы, если не делать тест и ждать симптомов: 173600000\n",
            "расходы, если делать тест всем и лечить группу большых: 154700000\n",
            "расходы, если использовать МЛ: 152974200\n",
            "Расходы \"решение не делать тесты - расходы с МL:\" 20625800\n",
            "Расходы \"решение не делать тесты - расходы сделать тесты всем\": 18900000\n",
            "Расходы \"сделать тесты всем - решение делать тесты ML\": 1725800\n"
          ]
        }
      ]
    },
    {
      "cell_type": "code",
      "source": [
        "gb_cost = buisnes_cost(classifier_gb, X_train, X_test, y_train, metric_table.iloc[1, 4])\n",
        "gb_cost"
      ],
      "metadata": {
        "colab": {
          "base_uri": "https://localhost:8080/"
        },
        "id": "N-gzwATM9BU9",
        "outputId": "43123ab2-abf2-4ed5-e0c4-aa07dfc076ac"
      },
      "execution_count": 99,
      "outputs": [
        {
          "output_type": "stream",
          "name": "stdout",
          "text": [
            "расходы, если не делать тест и ждать симптомов: 173600000\n",
            "расходы, если делать тест всем и лечить группу большых: 154700000\n",
            "расходы, если использовать МЛ: 153122800\n",
            "Расходы \"решение не делать тесты - расходы с МL:\" 20477200\n",
            "Расходы \"решение не делать тесты - расходы сделать тесты всем\": 18900000\n",
            "Расходы \"сделать тесты всем - решение делать тесты ML\": 1577200\n"
          ]
        }
      ]
    },
    {
      "cell_type": "code",
      "source": [
        "randforest_cost = buisnes_cost(classifier_randforest, X_train, X_test, y_train, metric_table.iloc[2, 4])\n",
        "randforest_cost"
      ],
      "metadata": {
        "colab": {
          "base_uri": "https://localhost:8080/"
        },
        "id": "0FljzQii_A73",
        "outputId": "caa62fb9-390f-4587-ea9c-e2de1ae5ed1e"
      },
      "execution_count": 100,
      "outputs": [
        {
          "output_type": "stream",
          "name": "stdout",
          "text": [
            "расходы, если не делать тест и ждать симптомов: 173600000\n",
            "расходы, если делать тест всем и лечить группу большых: 154700000\n",
            "расходы, если использовать МЛ: 153699400\n",
            "Расходы \"решение не делать тесты - расходы с МL:\" 19900600\n",
            "Расходы \"решение не делать тесты - расходы сделать тесты всем\": 18900000\n",
            "Расходы \"сделать тесты всем - решение делать тесты ML\": 1000600\n"
          ]
        }
      ]
    },
    {
      "cell_type": "markdown",
      "source": [
        "Выводы "
      ],
      "metadata": {
        "id": "6Ijk7jeB_l_a"
      }
    },
    {
      "cell_type": "markdown",
      "source": [
        "Градиентный бустинг оказался наиболее точный во всех показателях, кроме recall \n"
      ],
      "metadata": {
        "id": "dtiN7YtR_ogB"
      }
    }
  ]
}